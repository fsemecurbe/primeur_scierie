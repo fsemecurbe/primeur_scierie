{
 "cells": [
  {
   "cell_type": "code",
   "execution_count": null,
   "id": "a9dd29e2",
   "metadata": {},
   "outputs": [],
   "source": [
    "import numpy as np\n",
    "import pandas as pd\n",
    "import geopandas as gpd\n",
    "import matplotlib.pyplot as plt\n",
    "import seaborn as sns\n",
    "import piemap"
   ]
  },
  {
   "cell_type": "code",
   "execution_count": null,
   "id": "7f627674",
   "metadata": {},
   "outputs": [],
   "source": [
    "dep = gpd.read_file('dep2022_simplify.json')"
   ]
  },
  {
   "cell_type": "code",
   "execution_count": null,
   "id": "926e1b58",
   "metadata": {},
   "outputs": [],
   "source": [
    "reg = dep.dissolve('reg',as_index=False)"
   ]
  },
  {
   "cell_type": "code",
   "execution_count": null,
   "id": "f80e1b86",
   "metadata": {},
   "outputs": [],
   "source": [
    "sciage = pd.read_csv('sciage_afc.csv', sep=',',dtype={'REG':str, 'DEP':str, 'SIREN': str, 'DEPETAB':str,'NOM_DOSSIER':str, 'ESSENCE':str})\n",
    "sciage['entreprise'] = 1"
   ]
  },
  {
   "cell_type": "code",
   "execution_count": null,
   "id": "19100526",
   "metadata": {},
   "outputs": [],
   "source": [
    "typoc = {1:'tab:blue',2:'tab:orange',3:'tab:green'}\n",
    "sciage['clusterc'] = sciage.cluster.apply(lambda x:typoc[x])\n",
    "sciage.plot.scatter('axe1','axe2',c='clusterc', s=5, figsize=(10,10))"
   ]
  },
  {
   "cell_type": "code",
   "execution_count": null,
   "id": "0f61169a",
   "metadata": {},
   "outputs": [],
   "source": [
    "typo = {1:'1-Feuillus', 2 : '2-Pin maritime', 3 : '3-Conifère - hors pin maritime'}\n",
    "sciage['classe'] = sciage.cluster.apply(lambda x: typo[x])"
   ]
  },
  {
   "cell_type": "code",
   "execution_count": null,
   "id": "cfe1c090",
   "metadata": {},
   "outputs": [],
   "source": [
    "temp = pd.cut(x=sciage[\"Total\"], bins=[0,5000,10000,20000,float('inf')], labels=[\"< 5000 m3\",\"5000 - 10000m3\", \"10000 - 20000 m3\", \">= 20000 m3\"])\n",
    "sciage =  pd.concat([sciage,pd.get_dummies(temp)],axis=1)\n",
    "sciage['taille'] = temp"
   ]
  },
  {
   "cell_type": "code",
   "execution_count": null,
   "id": "5b2724bb",
   "metadata": {},
   "outputs": [],
   "source": [
    "sciage[['NOM_DOSSIER','classe']].to_csv('typologie_sciage.csv', index=False)"
   ]
  },
  {
   "cell_type": "markdown",
   "id": "490841b1",
   "metadata": {},
   "source": [
    "### Caractérisation des classes d'entreprises"
   ]
  },
  {
   "cell_type": "markdown",
   "id": "483ae08d",
   "metadata": {},
   "source": [
    "#### Production de sciage réalisée par classe"
   ]
  },
  {
   "cell_type": "code",
   "execution_count": null,
   "id": "2937ba43",
   "metadata": {},
   "outputs": [],
   "source": [
    "sciage_cluster = sciage.groupby('classe',as_index=False).sum()"
   ]
  },
  {
   "cell_type": "code",
   "execution_count": null,
   "id": "4f6311b4",
   "metadata": {},
   "outputs": [],
   "source": [
    "sciage_cluster.plot.bar(x='classe', y='Total', rot=0, figsize=(15,5), legend=False, title='Production de sciage en m3');"
   ]
  },
  {
   "cell_type": "code",
   "execution_count": null,
   "id": "0751e2e4",
   "metadata": {},
   "outputs": [],
   "source": [
    "sciage_cluster.loc['total']= sciage_cluster.sum()\n",
    "sciage_cluster['production_moyenne'] = sciage_cluster.Total / sciage_cluster.entreprise\n",
    "sciage_cluster[['classe',  'entreprise','Total','production_moyenne']].rename(columns={'Total':'Production totale', 'classe':'Classe', 'production_moyenne': 'Production Moyenne'})"
   ]
  },
  {
   "cell_type": "markdown",
   "id": "90e0d75b",
   "metadata": {},
   "source": [
    "#### Répartition de la production et des entreprises par taille"
   ]
  },
  {
   "cell_type": "code",
   "execution_count": null,
   "id": "98df0950",
   "metadata": {},
   "outputs": [],
   "source": [
    "temp = sciage.groupby(['classe', 'taille'], as_index=False)['entreprise','Total'].sum()\n",
    "temp2 = sciage.groupby(['classe'], as_index=False)['entreprise','Total'].sum()\n",
    "sciage_taille_classe = pd.merge(temp,temp2, on='classe',suffixes=('','_sum'))\n",
    "sciage_taille_classe.entreprise=sciage_taille_classe.entreprise/sciage_taille_classe.entreprise_sum * 100\n",
    "sciage_taille_classe.Total=sciage_taille_classe.Total/sciage_taille_classe.Total_sum * 100"
   ]
  },
  {
   "cell_type": "code",
   "execution_count": null,
   "id": "35160030",
   "metadata": {},
   "outputs": [],
   "source": [
    "g = sns.catplot(\n",
    "    x=\"taille\",       # x variable name\n",
    "    y=\"entreprise\",       # y variable name\n",
    "    hue=\"classe\",  # group variable name\n",
    "    data=sciage_taille_classe,     # dataframe to plot\n",
    "    kind=\"bar\",\n",
    "    height=5, # make the plot 5 units high\n",
    "    aspect=3,legend_out=False,\n",
    "    estimator=np.sum\n",
    "    \n",
    ");\n",
    "g.set_axis_labels(\"\", \"en %\")\n",
    "plt.title('Repartition des entreprises selon leur taille');"
   ]
  },
  {
   "cell_type": "code",
   "execution_count": null,
   "id": "25487259",
   "metadata": {},
   "outputs": [],
   "source": [
    "g= sns.catplot(\n",
    "    x=\"taille\",       # x variable name\n",
    "    y=\"Total\",       # y variable name\n",
    "    hue=\"classe\",  # group variable name\n",
    "    data=sciage_taille_classe,     # dataframe to plot\n",
    "    kind=\"bar\",\n",
    "    height=5, # make the plot 5 units high\n",
    "    aspect=3,legend_out=False,\n",
    "    estimator=np.sum\n",
    "    \n",
    ");\n",
    "g.set_axis_labels(\"\", \"en %\")\n",
    "plt.title('Repartition de la production selon leur taille');"
   ]
  },
  {
   "cell_type": "markdown",
   "id": "b574c4ff",
   "metadata": {},
   "source": [
    "#### Répartition de la production selon les essences par classe"
   ]
  },
  {
   "cell_type": "code",
   "execution_count": null,
   "id": "372fba32",
   "metadata": {},
   "outputs": [],
   "source": [
    "sciage_cluster_essence = sciage_cluster.copy()\n",
    "sciage_cluster_essence[['Chêne', 'Hêtre', 'Châtaigner', 'Feuillus précieux',\n",
    "       'Peuplier', 'Autres feuillus', 'Sapin-épicéa', 'Douglas', 'Mélèze',\n",
    "       'Pin maritime', 'Autres pins', 'Autres conifères', 'Bois tropicaux']]=sciage_cluster_essence[['Chêne', 'Hêtre', 'Châtaigner', 'Feuillus précieux',\n",
    "       'Peuplier', 'Autres feuillus', 'Sapin-épicéa', 'Douglas', 'Mélèze',\n",
    "       'Pin maritime', 'Autres pins', 'Autres conifères', 'Bois tropicaux']].div(sciage_cluster_essence.Total,axis=0) * 100\n",
    "\n",
    "sciage_cluster_essence['Autres feuillus'] =  sciage_cluster_essence[['Châtaigner', 'Feuillus précieux', 'Autres feuillus']].sum(axis=1)\n",
    "sciage_cluster_essence['Autres conifères'] =  sciage_cluster_essence[['Mélèze', 'Autres pins', 'Autres conifères']].sum(axis=1)\n",
    "\n",
    "sciage_cluster_essence=sciage_cluster_essence[['classe','Chêne', 'Hêtre', 'Peuplier', 'Autres feuillus', 'Sapin-épicéa', 'Douglas', 'Pin maritime', 'Autres conifères']]"
   ]
  },
  {
   "cell_type": "code",
   "execution_count": null,
   "id": "6eedb11d",
   "metadata": {},
   "outputs": [],
   "source": [
    "temp = []\n",
    "for x in sciage_cluster_essence.iloc[:3].groupby('classe',as_index=False):\n",
    "    df = x[1].transpose()\n",
    "    df['classe'] = x[0]\n",
    "    df['essence'] = df.index\n",
    "    df = df.drop('classe')\n",
    "    df.columns = ['Total','classe','essence']\n",
    "    temp.append(df)\n",
    "sciage_cluster_essence = pd.concat(temp)"
   ]
  },
  {
   "cell_type": "code",
   "execution_count": null,
   "id": "8bd4b92f",
   "metadata": {},
   "outputs": [],
   "source": [
    "sciage_cluster_essence.index=sciage_cluster_essence.classe"
   ]
  },
  {
   "cell_type": "code",
   "execution_count": null,
   "id": "5aa4089e",
   "metadata": {},
   "outputs": [],
   "source": [
    "g= sns.catplot(\n",
    "    x=\"essence\",       # x variable name\n",
    "    y=\"Total\",       # y variable name\n",
    "    hue=\"classe\",  # group variable name\n",
    "    data=sciage_cluster_essence,     # dataframe to plot\n",
    "    kind=\"bar\",\n",
    "    height=5, # make the plot 5 units high\n",
    "    aspect=3,legend_out=False\n",
    "    \n",
    ");\n",
    "g.set_axis_labels(\"\", \"en %\")\n",
    "plt.title('Profil des classes selon les essences sciées');"
   ]
  },
  {
   "cell_type": "markdown",
   "id": "dba8a9ea",
   "metadata": {},
   "source": [
    "#### Part de la production départementale réalisée par classe d'entreprises"
   ]
  },
  {
   "cell_type": "code",
   "execution_count": null,
   "id": "0623a633",
   "metadata": {},
   "outputs": [],
   "source": [
    "sciage = pd.concat([sciage,pd.get_dummies(sciage.classe).mul(sciage.Total, axis=0)], axis=1)"
   ]
  },
  {
   "cell_type": "code",
   "execution_count": null,
   "id": "9333b0d1",
   "metadata": {},
   "outputs": [],
   "source": [
    "sciage_cluster_dep = sciage.groupby(['DEP'],as_index=False)['classe 1 : Feuillus', 'classe 2 : Pin maritime',\n",
    "       'classe 3 : Conifère - hors pin maritime', 'Total'].sum()"
   ]
  },
  {
   "cell_type": "code",
   "execution_count": null,
   "id": "9b114ee5",
   "metadata": {},
   "outputs": [],
   "source": [
    "sciage_cluster_reg = sciage_cluster_dep.merge(dep[['dep','reg']], left_on='DEP', right_on='dep')\n",
    "sciage_cluster_reg = sciage_cluster_reg.groupby('reg',as_index=False)['classe 1 : Feuillus', 'classe 2 : Pin maritime',\n",
    "       'classe 3 : Conifère - hors pin maritime'].sum()"
   ]
  },
  {
   "cell_type": "code",
   "execution_count": null,
   "id": "46406125",
   "metadata": {},
   "outputs": [],
   "source": [
    "sciage_cluster_reg = reg.merge(sciage_cluster_reg, left_on='reg', right_on='reg')"
   ]
  },
  {
   "cell_type": "code",
   "execution_count": null,
   "id": "f8951b18",
   "metadata": {},
   "outputs": [],
   "source": [
    "from importlib import reload\n",
    "piemap = reload(piemap)"
   ]
  },
  {
   "cell_type": "code",
   "execution_count": null,
   "id": "0734361a",
   "metadata": {},
   "outputs": [],
   "source": [
    "temp = piemap.piemap(sciage_cluster_reg, ['classe 1 : Feuillus', 'classe 2 : Pin maritime',\n",
    "       'classe 3 : Conifère - hors pin maritime'])\n",
    "typocreg = {0:'tab:blue',1:'tab:orange',2:'tab:green'}\n",
    "temp['color'] = temp.quantity.apply(lambda x: typocreg[x])"
   ]
  },
  {
   "cell_type": "code",
   "execution_count": null,
   "id": "a4d20915",
   "metadata": {},
   "outputs": [],
   "source": []
  },
  {
   "cell_type": "code",
   "execution_count": null,
   "id": "dc579831",
   "metadata": {},
   "outputs": [],
   "source": [
    "import matplotlib.patches as patches\n",
    "ax = reg[~reg.reg.isin(['01','02','03','04','06','94'])].plot(figsize=(20,20), color='lightgrey', zorder=1)\n",
    "reg.boundary.plot(color='white',ax=ax,zorder=2)\n",
    "temp.plot(color=temp.color,ax=ax, legend=True, categorical=True,zorder=3, alpha=0.8)\n",
    "ax.set_axis_off()\n",
    "ax.set_title('Répartition de la production de sciage')\n",
    "list_of_lito = ['Feuillus', 'Pin maritime', 'Conifère - hors pin maritime']\n",
    "\n",
    "color_dict = {'Feuillus':'tab:blue','Pin maritime':'tab:orange','Conifère - hors pin maritime':'tab:green'}\n",
    "\n",
    "# Creates a rectangular patch for each contaminant, using the colors above\n",
    "patch_list =[]\n",
    "for lito in list_of_lito:\n",
    "    label = lito.capitalize()\n",
    "    color = color_dict[lito]\n",
    "    patch_list.append(patches.Patch(facecolor=color, \n",
    "                                    label=label, \n",
    "                                    alpha=0.9, \n",
    "                                    linewidth=1, \n",
    "                                    edgecolor=None))\n",
    "\n",
    "# Creates a legend with the list of patches above.\n",
    "ax.legend(handles=patch_list, fontsize=14, loc='upper right',\n",
    "        bbox_to_anchor = (0.3,0.95),title='Classe', title_fontsize=14)"
   ]
  },
  {
   "cell_type": "code",
   "execution_count": null,
   "id": "c969e140",
   "metadata": {},
   "outputs": [],
   "source": [
    "sciage_cluster_dep['classe 1 : Feuillus'] = sciage_cluster_dep['classe 1 : Feuillus'] / sciage_cluster_dep.Total * 100\n",
    "sciage_cluster_dep['classe 2 : Pin maritime'] = sciage_cluster_dep['classe 2 : Pin maritime'] / sciage_cluster_dep.Total * 100\n",
    "sciage_cluster_dep['classe 3 : Conifère - hors pin maritime'] = sciage_cluster_dep['classe 3 : Conifère - hors pin maritime'] / sciage_cluster_dep.Total * 100\n",
    "sciage_cluster_dep = dep.merge(sciage_cluster_dep, left_on='dep', right_on='DEP')"
   ]
  },
  {
   "cell_type": "code",
   "execution_count": null,
   "id": "c9269d39",
   "metadata": {},
   "outputs": [],
   "source": [
    "fig, (ax1, ax2, ax3) = plt.subplots(1, 3, figsize=(20,7))\n",
    "fig.suptitle(\"Part de la production départementale réalisée par classe d'entreprises\")\n",
    "sciage_cluster_dep.plot('classe 1 : Feuillus',scheme='userdefined', cmap='Blues', legend=True, legend_kwds=dict(fmt='{:.0f}', interval=True), figsize=(10,10), classification_kwds={'bins':[25,50,75]}, ax=ax1)\n",
    "dep[~dep.dep.isin(['2A','2B', '971', '972', '973', '974', '975', '976'])].boundary.plot(ax=ax1, color='grey')\n",
    "ax1.set_axis_off()\n",
    "ax1.set_title('classe 1 : Feuillus')\n",
    "sciage_cluster_dep.plot('classe 2 : Pin maritime',scheme='userdefined', cmap='Oranges', legend=True, legend_kwds=dict(fmt='{:.0f}', interval=True), figsize=(10,10), classification_kwds={'bins':[25,50,75]}, ax=ax2)\n",
    "dep[~dep.dep.isin(['2A','2B', '971', '972', '973', '974', '975', '976'])].boundary.plot(ax=ax2, color='grey')\n",
    "ax2.set_axis_off()\n",
    "ax2.set_title('classe 2 : Pin maritime')\n",
    "sciage_cluster_dep.plot('classe 3 : Conifère - hors pin maritime',scheme='userdefined', cmap='Greens', legend=True, legend_kwds=dict(fmt='{:.0f}', interval=True), figsize=(10,10), classification_kwds={'bins':[25,50,75]}, ax=ax3)\n",
    "dep[~dep.dep.isin(['2A','2B', '971', '972', '973', '974', '975', '976'])].boundary.plot(ax=ax3, color='grey')\n",
    "ax3.set_axis_off()\n",
    "ax3.set_title('classe 3 : Conifère - hors pin maritime');"
   ]
  },
  {
   "cell_type": "markdown",
   "id": "9741f61d",
   "metadata": {},
   "source": [
    "### L'approvisionnement des scieries"
   ]
  },
  {
   "cell_type": "code",
   "execution_count": null,
   "id": "98a54d3d",
   "metadata": {},
   "outputs": [],
   "source": [
    "approv = pd.read_csv('APPROV_STOCKS.csv', sep=';', dtype={'NOM_DOSSIER':str})\n",
    "approv = approv.fillna(0)"
   ]
  },
  {
   "cell_type": "code",
   "execution_count": null,
   "id": "effae368",
   "metadata": {},
   "outputs": [],
   "source": [
    "approv.columns"
   ]
  },
  {
   "cell_type": "code",
   "execution_count": null,
   "id": "f3c7f829",
   "metadata": {},
   "outputs": [],
   "source": [
    "nom_approv = {1:'Exploitant scieur', 0:'Scieur exclusif'}\n",
    "approv['exploitant_scieur_b'] = (approv.APENT_FE + approv.APENT_CO +approv.APENT_TROP)>1\n",
    "approv['type'] = approv['exploitant_scieur_b'].apply(lambda x:nom_approv[x])"
   ]
  },
  {
   "cell_type": "code",
   "execution_count": null,
   "id": "4907d3a1",
   "metadata": {},
   "outputs": [],
   "source": [
    "sciage_approv = sciage.merge(approv[['NOM_DOSSIER', 'type','exploitant_scieur_b']], on='NOM_DOSSIER', how='left')\n",
    "print(sciage_approv['exploitant_scieur_b'].sum()/sciage_approv.entreprise.sum() * 100)"
   ]
  },
  {
   "cell_type": "code",
   "execution_count": null,
   "id": "a0cfe734",
   "metadata": {},
   "outputs": [],
   "source": [
    "sciage_approv = pd.concat([sciage_approv,pd.get_dummies(sciage_approv.type)], axis=1)\n",
    "sciage_approv['Exploitant scieur production'] = sciage_approv['Exploitant scieur'] * sciage_approv.Total\n",
    "sciage_approv['Scieur exclusif production'] = sciage_approv['Scieur exclusif'] * sciage_approv.Total"
   ]
  },
  {
   "cell_type": "code",
   "execution_count": null,
   "id": "abeef2dc",
   "metadata": {},
   "outputs": [],
   "source": [
    "sciage_approv_classe = sciage_approv.groupby(['classe'],as_index=False)[['Exploitant scieur','Scieur exclusif', 'entreprise',\n",
    "                                                                         'Exploitant scieur production','Scieur exclusif production','Total']].sum()\n",
    "sciage_approv_classe.loc['total']= sciage_approv_classe.sum()\n",
    "sciage_approv_classe['Exploitant scieur'] = sciage_approv_classe['Exploitant scieur'] / sciage_approv_classe.entreprise * 100\n",
    "sciage_approv_classe['Scieur exclusif'] = sciage_approv_classe['Scieur exclusif'] / sciage_approv_classe.entreprise * 100\n",
    "sciage_approv_classe['Exploitant scieur production'] = sciage_approv_classe['Exploitant scieur production'] / sciage_approv_classe.Total * 100\n",
    "sciage_approv_classe['Scieur exclusif production'] = sciage_approv_classe['Scieur exclusif production'] / sciage_approv_classe.Total * 100"
   ]
  },
  {
   "cell_type": "code",
   "execution_count": null,
   "id": "4809db24",
   "metadata": {},
   "outputs": [],
   "source": [
    "sciage_approv_classe[['classe','Exploitant scieur','Scieur exclusif', 'Exploitant scieur production','Scieur exclusif production',]]"
   ]
  },
  {
   "cell_type": "code",
   "execution_count": null,
   "id": "0f95b48e",
   "metadata": {},
   "outputs": [],
   "source": [
    "sciage_approv_classe = sciage_approv.groupby(['classe', 'taille'], as_index=False)['exploitant_scieur_b','entreprise'].sum()\n",
    "sciage_approv_classe.exploitant_scieur_b=sciage_approv_classe.exploitant_scieur_b/sciage_approv_classe.entreprise * 100"
   ]
  },
  {
   "cell_type": "code",
   "execution_count": null,
   "id": "3608e4cc",
   "metadata": {},
   "outputs": [],
   "source": [
    "g= sns.catplot(\n",
    "    x=\"taille\",       # x variable name\n",
    "    y=\"exploitant_scieur_b\",       # y variable name\n",
    "    hue=\"classe\",  # group variable name\n",
    "    data=sciage_approv_classe,     # dataframe to plot\n",
    "    kind=\"bar\",\n",
    "    height=5, # make the plot 5 units high\n",
    "    aspect=3,legend_out=False\n",
    "    \n",
    ");\n",
    "g.set_axis_labels(\"\", \"en %\")\n",
    "plt.title('Part des exploitants scieurs par classe et taille');"
   ]
  },
  {
   "cell_type": "markdown",
   "id": "d2c680bd",
   "metadata": {},
   "source": [
    "### Origine approvisionnement en grumes sur écorce"
   ]
  },
  {
   "cell_type": "code",
   "execution_count": null,
   "id": "8de084f0",
   "metadata": {},
   "outputs": [],
   "source": [
    "inertie = pd.read_csv('inertie.csv', dtype={'NOM_DOSSIER':str}).fillna(0)"
   ]
  },
  {
   "cell_type": "code",
   "execution_count": null,
   "id": "a5894b28",
   "metadata": {},
   "outputs": [],
   "source": [
    "sciage_approv = sciage.merge(approv, on='NOM_DOSSIER', how='left')\n",
    "sciage_approv = sciage_approv.merge(inertie, on='NOM_DOSSIER', how='left')"
   ]
  },
  {
   "cell_type": "code",
   "execution_count": null,
   "id": "8f38bef5",
   "metadata": {},
   "outputs": [],
   "source": [
    "sciage_approv_inertie = sciage_approv.groupby('classe',as_index=False)['max','sum'].mean()"
   ]
  },
  {
   "cell_type": "code",
   "execution_count": null,
   "id": "b5b06313",
   "metadata": {},
   "outputs": [],
   "source": [
    "sciage_approv_inertie['mdep'] = sciage_approv_inertie['max'] / sciage_approv_inertie['sum'] * 100"
   ]
  },
  {
   "cell_type": "code",
   "execution_count": null,
   "id": "6ea3ee64",
   "metadata": {},
   "outputs": [],
   "source": [
    "sciage_approv_inertie"
   ]
  },
  {
   "cell_type": "code",
   "execution_count": null,
   "id": "8747c99c",
   "metadata": {},
   "outputs": [],
   "source": [
    "sciage_approv['APENT'] = sciage_approv.APENT_FE + sciage_approv.APENT_CO + sciage_approv.APENT_TROP\n",
    "sciage_approv['APACHSCI'] = sciage_approv['APACHSCI_FE'] + sciage_approv['APACHSCI_CO'] + sciage_approv['APACHSCI_TROP']\n",
    "sciage_approv['APACHEXF'] = sciage_approv['APACHEXF_FE'] + sciage_approv['APACHEXF_CO'] + sciage_approv['APACHEXF_TROP']\n",
    "sciage_approv['DONT_APPRO_121'] = sciage_approv[['DONT_APPRO_FE_121', 'DONT_APPRO_CO_121']].sum(axis=1)\n",
    "sciage_approv['DONT_APPRO_122'] = sciage_approv[['DONT_APPRO_FE_122', 'DONT_APPRO_CO_122']].sum(axis=1)\n",
    "sciage_approv.DTDEP_FE = sciage_approv.DTDEP_FE * sciage_approv.APACHEXF_FE / 100\n",
    "sciage_approv.DTDEP_CO = sciage_approv.DTDEP_CO * sciage_approv.APACHEXF_CO / 100\n",
    "sciage_approv['DTDEP']= sciage_approv[['DTDEP_FE', 'DTDEP_CO']].sum(axis=1)"
   ]
  },
  {
   "cell_type": "code",
   "execution_count": null,
   "id": "4bf19a74",
   "metadata": {},
   "outputs": [],
   "source": [
    "sciage_approv_classe = sciage_approv.groupby(['classe'], as_index=False)[['APENT','APACHSCI','APACHEXF','DONT_APPRO_121','DONT_APPRO_122','DTDEP']].sum()\n",
    "sciage_approv_classe.loc['total']= sciage_approv_classe.sum()\n",
    "total = (sciage_approv_classe.APENT + sciage_approv_classe.APACHSCI + sciage_approv_classe.APACHEXF)\n",
    "sciage_approv_classe['DONT_APPRO_121'] = sciage_approv_classe.DONT_APPRO_121 / sciage_approv_classe.APACHSCI * 100\n",
    "sciage_approv_classe['DONT_APPRO_122'] = sciage_approv_classe.DONT_APPRO_122 / sciage_approv_classe.APACHEXF * 100\n",
    "sciage_approv_classe['DTDEP'] = sciage_approv_classe.DTDEP / sciage_approv_classe.APACHEXF * 100\n",
    "sciage_approv_classe.APENT = sciage_approv_classe.APENT / total  * 100\n",
    "sciage_approv_classe.APACHSCI = sciage_approv_classe.APACHSCI / total * 100\n",
    "sciage_approv_classe.APACHEXF = sciage_approv_classe.APACHEXF / total * 100\n",
    "sciage_approv_classe.at['total','classe'] = 'Total'\n",
    "sciage_approv_classe"
   ]
  },
  {
   "cell_type": "code",
   "execution_count": null,
   "id": "8ff7383f",
   "metadata": {},
   "outputs": [],
   "source": [
    "sciage_approv_classe = sciage_approv.groupby(['classe','type'], as_index=False)[['APENT','APACHSCI','APACHEXF','DONT_APPRO_121','DONT_APPRO_122','DTDEP']].sum()\n",
    "sciage_approv_classe.loc['total']= sciage_approv_classe.sum()\n",
    "total = (sciage_approv_classe.APENT + sciage_approv_classe.APACHSCI + sciage_approv_classe.APACHEXF)\n",
    "sciage_approv_classe['DONT_APPRO_121'] = sciage_approv_classe.DONT_APPRO_121 / sciage_approv_classe.APACHSCI * 100\n",
    "sciage_approv_classe['DONT_APPRO_122'] = sciage_approv_classe.DONT_APPRO_122 / sciage_approv_classe.APACHEXF * 100\n",
    "sciage_approv_classe['DTDEP'] = sciage_approv_classe.DTDEP / sciage_approv_classe.APACHEXF * 100\n",
    "sciage_approv_classe.APENT = sciage_approv_classe.APENT / total  * 100\n",
    "sciage_approv_classe.APACHSCI = sciage_approv_classe.APACHSCI / total * 100\n",
    "sciage_approv_classe.APACHEXF = sciage_approv_classe.APACHEXF / total * 100\n",
    "sciage_approv_classe.at['total','classe'] = 'Total'\n",
    "sciage_approv_classe"
   ]
  },
  {
   "cell_type": "code",
   "execution_count": null,
   "id": "f26e84f7",
   "metadata": {},
   "outputs": [],
   "source": [
    "sciage_approv['CO'] = sciage_approv[['APENT_CO','APACHSCI_CO','APACHEXF_CO']].sum(axis=1)\n",
    "sciage_approv['FE'] = sciage_approv[['APENT_FE','APACHSCI_FE','APACHEXF_FE']].sum(axis=1)"
   ]
  },
  {
   "cell_type": "code",
   "execution_count": null,
   "id": "8b5b6724",
   "metadata": {},
   "outputs": [],
   "source": [
    "sciage_approv_classe = sciage_approv.groupby(['classe'], as_index=False)[['CO','FE']].sum()\n",
    "sciage_approv_classe.loc['total']= sciage_approv_classe.sum()\n",
    "total = (sciage_approv_classe.CO + sciage_approv_classe.FE)\n",
    "sciage_approv_classe.CO = sciage_approv_classe.CO / total  * 100\n",
    "sciage_approv_classe.FE = sciage_approv_classe.FE / total * 100\n",
    "sciage_approv_classe.at['total','classe'] = 'Total'\n",
    "sciage_approv_classe"
   ]
  },
  {
   "cell_type": "code",
   "execution_count": null,
   "id": "f20f023b",
   "metadata": {},
   "outputs": [],
   "source": [
    "sciage_approv_classe = sciage_approv.groupby(['classe','taille'], as_index=False)[['CO','FE']].sum()\n",
    "sciage_approv_classe.loc['total']= sciage_approv_classe.sum()\n",
    "total = (sciage_approv_classe.CO + sciage_approv_classe.FE)\n",
    "sciage_approv_classe.CO = sciage_approv_classe.CO / total  * 100\n",
    "sciage_approv_classe.FE = sciage_approv_classe.FE / total * 100\n",
    "sciage_approv_classe.at['total','classe'] = 'Total'\n",
    "sciage_approv_classe"
   ]
  },
  {
   "cell_type": "code",
   "execution_count": null,
   "id": "e9124636",
   "metadata": {},
   "outputs": [],
   "source": [
    "sciage_approv_classe = sciage_approv.groupby(['classe','type'], as_index=False)[['CO','FE']].sum()\n",
    "sciage_approv_classe.loc['total']= sciage_approv_classe.sum()\n",
    "total = (sciage_approv_classe.CO + sciage_approv_classe.FE)\n",
    "sciage_approv_classe.CO = sciage_approv_classe.CO / total  * 100\n",
    "sciage_approv_classe.FE = sciage_approv_classe.FE / total * 100\n",
    "sciage_approv_classe.at['total','classe'] = 'Total'\n",
    "sciage_approv_classe"
   ]
  },
  {
   "cell_type": "code",
   "execution_count": null,
   "id": "f8850110",
   "metadata": {},
   "outputs": [],
   "source": [
    "sciage_approv_classe = sciage_approv.groupby(['classe','type','taille'], as_index=False)[['CO','FE']].sum()\n",
    "sciage_approv_classe.loc['total']= sciage_approv_classe.sum()\n",
    "total = (sciage_approv_classe.CO + sciage_approv_classe.FE)\n",
    "sciage_approv_classe.CO = sciage_approv_classe.CO / total  * 100\n",
    "sciage_approv_classe.FE = sciage_approv_classe.FE / total * 100\n",
    "sciage_approv_classe.at['total','classe'] = 'Total'\n",
    "sciage_approv_classe"
   ]
  },
  {
   "cell_type": "code",
   "execution_count": null,
   "id": "7c28ea63",
   "metadata": {},
   "outputs": [],
   "source": [
    "115+48+24+42+38+28+5+4"
   ]
  },
  {
   "cell_type": "code",
   "execution_count": null,
   "id": "4857a6e0",
   "metadata": {},
   "outputs": [],
   "source": [
    "sciage_approv_taille = sciage_approv.groupby(['taille'], as_index=False)[['APENT','APACHSCI','APACHEXF']].sum()\n",
    "total = (sciage_approv_taille.APENT + sciage_approv_taille.APACHSCI + sciage_approv_taille.APACHEXF)\n",
    "sciage_approv_taille.APENT = sciage_approv_taille.APENT / total  * 100\n",
    "sciage_approv_taille.APACHSCI = sciage_approv_taille.APACHSCI / total * 100\n",
    "sciage_approv_taille.APACHEXF = sciage_approv_taille.APACHEXF / total * 100"
   ]
  },
  {
   "cell_type": "code",
   "execution_count": null,
   "id": "6134367d",
   "metadata": {},
   "outputs": [],
   "source": [
    "sciage_approv_taille"
   ]
  },
  {
   "cell_type": "code",
   "execution_count": null,
   "id": "62595ab3",
   "metadata": {},
   "outputs": [],
   "source": [
    "sciage_approv_classe_taille = sciage_approv.groupby(['classe','taille',], as_index=False)[['APENT','APACHSCI','APACHEXF','DONT_APPRO_121','DONT_APPRO_122','DTDEP']].sum()\n",
    "sciage_approv_classe_taille['DONT_APPRO_121'] = sciage_approv_classe_taille.DONT_APPRO_121 / sciage_approv_classe_taille.APACHSCI * 100\n",
    "sciage_approv_classe_taille['DONT_APPRO_122'] = sciage_approv_classe_taille.DONT_APPRO_122 / sciage_approv_classe_taille.APACHEXF * 100\n",
    "sciage_approv_classe_taille['DTDEP'] = sciage_approv_classe_taille.DTDEP / sciage_approv_classe_taille.APACHEXF * 100\n",
    "total = (sciage_approv_classe_taille.APENT + sciage_approv_classe_taille.APACHSCI + sciage_approv_classe_taille.APACHEXF)\n",
    "sciage_approv_classe_taille.APENT = sciage_approv_classe_taille.APENT / total  * 100\n",
    "sciage_approv_classe_taille.APACHSCI = sciage_approv_classe_taille.APACHSCI / total * 100\n",
    "sciage_approv_classe_taille.APACHEXF = sciage_approv_classe_taille.APACHEXF / total * 100"
   ]
  },
  {
   "cell_type": "code",
   "execution_count": null,
   "id": "579ad771",
   "metadata": {},
   "outputs": [],
   "source": [
    "sciage_approv_classe_taille"
   ]
  },
  {
   "cell_type": "code",
   "execution_count": null,
   "id": "44ccf9b1",
   "metadata": {},
   "outputs": [],
   "source": []
  }
 ],
 "metadata": {
  "kernelspec": {
   "display_name": "Python 3 (ipykernel)",
   "language": "python",
   "name": "python3"
  },
  "language_info": {
   "codemirror_mode": {
    "name": "ipython",
    "version": 3
   },
   "file_extension": ".py",
   "mimetype": "text/x-python",
   "name": "python",
   "nbconvert_exporter": "python",
   "pygments_lexer": "ipython3",
   "version": "3.9.7"
  }
 },
 "nbformat": 4,
 "nbformat_minor": 5
}
